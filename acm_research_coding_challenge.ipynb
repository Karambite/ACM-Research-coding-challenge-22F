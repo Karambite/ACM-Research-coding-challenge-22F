{
  "nbformat": 4,
  "nbformat_minor": 0,
  "metadata": {
    "colab": {
      "name": "acm_research_coding_challenge.ipynb",
      "provenance": [],
      "collapsed_sections": []
    },
    "kernelspec": {
      "name": "python3",
      "display_name": "Python 3"
    },
    "language_info": {
      "name": "python"
    }
  },
  "cells": [
    {
      "cell_type": "code",
      "execution_count": null,
      "metadata": {
        "id": "mnFk_2O5Ub1h"
      },
      "outputs": [],
      "source": [
        "#imports\n",
        "import numpy as np\n",
        "import pandas as pd\n",
        "import matplotlib.pyplot as plt\n",
        "from sklearn import preprocessing\n",
        "import seaborn as sns\n",
        "from matplotlib import pyplot\n",
        "from sklearn.ensemble import RandomForestRegressor\n",
        "from sklearn import svm\n",
        "from sklearn.linear_model import LinearRegression\n",
        "from sklearn.model_selection import train_test_split\n",
        "import xgboost as xgb\n",
        "from sklearn.metrics import mean_squared_error\n",
        "\n",
        "le = preprocessing.LabelEncoder()"
      ]
    },
    {
      "cell_type": "code",
      "source": [
        "#read data\n",
        "df=pd.read_csv(\"cars_raw.csv\")\n",
        "df.head(5)"
      ],
      "metadata": {
        "id": "9iBE-FYAYDom",
        "colab": {
          "base_uri": "https://localhost:8080/",
          "height": 647
        },
        "outputId": "2b8cf4d4-58fd-488a-b0c4-030fb9c36560"
      },
      "execution_count": null,
      "outputs": [
        {
          "output_type": "execute_result",
          "data": {
            "text/plain": [
              "   Year    Make            Model Used/New    Price  ConsumerRating  \\\n",
              "0  2019  Toyota        Sienna SE     Used  $39,998             4.6   \n",
              "1  2018    Ford     F-150 Lariat     Used  $49,985             4.8   \n",
              "2  2017     RAM     1500 Laramie     Used  $41,860             4.7   \n",
              "3  2021   Honda  Accord Sport SE     Used  $28,500             5.0   \n",
              "4  2020   Lexus           RX 350     Used  $49,000             4.8   \n",
              "\n",
              "   ConsumerReviews SellerType  \\\n",
              "0               45     Dealer   \n",
              "1              817     Dealer   \n",
              "2              495     Dealer   \n",
              "3               36     Dealer   \n",
              "4               76     Dealer   \n",
              "\n",
              "                                          SellerName  SellerRating  ...  \\\n",
              "0  CarMax Murrieta - Now offering Curbside Pickup...           3.3  ...   \n",
              "1                                    Giant Chevrolet           4.8  ...   \n",
              "2                             Gill Auto Group Madera           4.6  ...   \n",
              "3                                AutoSavvy Las Vegas           4.6  ...   \n",
              "4                                 Lexus of Henderson           4.8  ...   \n",
              "\n",
              "   InteriorColor         Drivetrain MinMPG MaxMPG  FuelType  \\\n",
              "0          Black  Front-wheel Drive     19     27  Gasoline   \n",
              "1          Black   Four-wheel Drive     19     24  Gasoline   \n",
              "2          Black   Four-wheel Drive     15     21  Gasoline   \n",
              "3              –  Front-wheel Drive     29     35  Gasoline   \n",
              "4          Birch  Front-wheel Drive     20     27  Gasoline   \n",
              "\n",
              "         Transmission                           Engine                VIN  \\\n",
              "0   8-Speed Automatic             3.5L V6 24V PDI DOHC  5TDXZ3DC2KS015402   \n",
              "1  10-Speed Automatic  3.5L V6 24V PDI DOHC Twin Turbo  1FTEW1EG2JFD44217   \n",
              "2   8-Speed Automatic             5.7L V8 16V MPFI OHV  1C6RR7VT5HS842283   \n",
              "3       Automatic CVT       1.5L I4 16V GDI DOHC Turbo  1HGCV1F49MA038035   \n",
              "4   8-Speed Automatic             3.5L V6 24V PDI DOHC  2T2AZMAA8LC156270   \n",
              "\n",
              "      Stock#  Mileage  \n",
              "0   22998646    29403  \n",
              "1     22418A    32929  \n",
              "2  NG277871G    23173  \n",
              "3      54237    10598  \n",
              "4   HDT4181A    28137  \n",
              "\n",
              "[5 rows x 32 columns]"
            ],
            "text/html": [
              "\n",
              "  <div id=\"df-c2b06c5f-bbad-41c7-8be4-32610f06723d\">\n",
              "    <div class=\"colab-df-container\">\n",
              "      <div>\n",
              "<style scoped>\n",
              "    .dataframe tbody tr th:only-of-type {\n",
              "        vertical-align: middle;\n",
              "    }\n",
              "\n",
              "    .dataframe tbody tr th {\n",
              "        vertical-align: top;\n",
              "    }\n",
              "\n",
              "    .dataframe thead th {\n",
              "        text-align: right;\n",
              "    }\n",
              "</style>\n",
              "<table border=\"1\" class=\"dataframe\">\n",
              "  <thead>\n",
              "    <tr style=\"text-align: right;\">\n",
              "      <th></th>\n",
              "      <th>Year</th>\n",
              "      <th>Make</th>\n",
              "      <th>Model</th>\n",
              "      <th>Used/New</th>\n",
              "      <th>Price</th>\n",
              "      <th>ConsumerRating</th>\n",
              "      <th>ConsumerReviews</th>\n",
              "      <th>SellerType</th>\n",
              "      <th>SellerName</th>\n",
              "      <th>SellerRating</th>\n",
              "      <th>...</th>\n",
              "      <th>InteriorColor</th>\n",
              "      <th>Drivetrain</th>\n",
              "      <th>MinMPG</th>\n",
              "      <th>MaxMPG</th>\n",
              "      <th>FuelType</th>\n",
              "      <th>Transmission</th>\n",
              "      <th>Engine</th>\n",
              "      <th>VIN</th>\n",
              "      <th>Stock#</th>\n",
              "      <th>Mileage</th>\n",
              "    </tr>\n",
              "  </thead>\n",
              "  <tbody>\n",
              "    <tr>\n",
              "      <th>0</th>\n",
              "      <td>2019</td>\n",
              "      <td>Toyota</td>\n",
              "      <td>Sienna SE</td>\n",
              "      <td>Used</td>\n",
              "      <td>$39,998</td>\n",
              "      <td>4.6</td>\n",
              "      <td>45</td>\n",
              "      <td>Dealer</td>\n",
              "      <td>CarMax Murrieta - Now offering Curbside Pickup...</td>\n",
              "      <td>3.3</td>\n",
              "      <td>...</td>\n",
              "      <td>Black</td>\n",
              "      <td>Front-wheel Drive</td>\n",
              "      <td>19</td>\n",
              "      <td>27</td>\n",
              "      <td>Gasoline</td>\n",
              "      <td>8-Speed Automatic</td>\n",
              "      <td>3.5L V6 24V PDI DOHC</td>\n",
              "      <td>5TDXZ3DC2KS015402</td>\n",
              "      <td>22998646</td>\n",
              "      <td>29403</td>\n",
              "    </tr>\n",
              "    <tr>\n",
              "      <th>1</th>\n",
              "      <td>2018</td>\n",
              "      <td>Ford</td>\n",
              "      <td>F-150 Lariat</td>\n",
              "      <td>Used</td>\n",
              "      <td>$49,985</td>\n",
              "      <td>4.8</td>\n",
              "      <td>817</td>\n",
              "      <td>Dealer</td>\n",
              "      <td>Giant Chevrolet</td>\n",
              "      <td>4.8</td>\n",
              "      <td>...</td>\n",
              "      <td>Black</td>\n",
              "      <td>Four-wheel Drive</td>\n",
              "      <td>19</td>\n",
              "      <td>24</td>\n",
              "      <td>Gasoline</td>\n",
              "      <td>10-Speed Automatic</td>\n",
              "      <td>3.5L V6 24V PDI DOHC Twin Turbo</td>\n",
              "      <td>1FTEW1EG2JFD44217</td>\n",
              "      <td>22418A</td>\n",
              "      <td>32929</td>\n",
              "    </tr>\n",
              "    <tr>\n",
              "      <th>2</th>\n",
              "      <td>2017</td>\n",
              "      <td>RAM</td>\n",
              "      <td>1500 Laramie</td>\n",
              "      <td>Used</td>\n",
              "      <td>$41,860</td>\n",
              "      <td>4.7</td>\n",
              "      <td>495</td>\n",
              "      <td>Dealer</td>\n",
              "      <td>Gill Auto Group Madera</td>\n",
              "      <td>4.6</td>\n",
              "      <td>...</td>\n",
              "      <td>Black</td>\n",
              "      <td>Four-wheel Drive</td>\n",
              "      <td>15</td>\n",
              "      <td>21</td>\n",
              "      <td>Gasoline</td>\n",
              "      <td>8-Speed Automatic</td>\n",
              "      <td>5.7L V8 16V MPFI OHV</td>\n",
              "      <td>1C6RR7VT5HS842283</td>\n",
              "      <td>NG277871G</td>\n",
              "      <td>23173</td>\n",
              "    </tr>\n",
              "    <tr>\n",
              "      <th>3</th>\n",
              "      <td>2021</td>\n",
              "      <td>Honda</td>\n",
              "      <td>Accord Sport SE</td>\n",
              "      <td>Used</td>\n",
              "      <td>$28,500</td>\n",
              "      <td>5.0</td>\n",
              "      <td>36</td>\n",
              "      <td>Dealer</td>\n",
              "      <td>AutoSavvy Las Vegas</td>\n",
              "      <td>4.6</td>\n",
              "      <td>...</td>\n",
              "      <td>–</td>\n",
              "      <td>Front-wheel Drive</td>\n",
              "      <td>29</td>\n",
              "      <td>35</td>\n",
              "      <td>Gasoline</td>\n",
              "      <td>Automatic CVT</td>\n",
              "      <td>1.5L I4 16V GDI DOHC Turbo</td>\n",
              "      <td>1HGCV1F49MA038035</td>\n",
              "      <td>54237</td>\n",
              "      <td>10598</td>\n",
              "    </tr>\n",
              "    <tr>\n",
              "      <th>4</th>\n",
              "      <td>2020</td>\n",
              "      <td>Lexus</td>\n",
              "      <td>RX 350</td>\n",
              "      <td>Used</td>\n",
              "      <td>$49,000</td>\n",
              "      <td>4.8</td>\n",
              "      <td>76</td>\n",
              "      <td>Dealer</td>\n",
              "      <td>Lexus of Henderson</td>\n",
              "      <td>4.8</td>\n",
              "      <td>...</td>\n",
              "      <td>Birch</td>\n",
              "      <td>Front-wheel Drive</td>\n",
              "      <td>20</td>\n",
              "      <td>27</td>\n",
              "      <td>Gasoline</td>\n",
              "      <td>8-Speed Automatic</td>\n",
              "      <td>3.5L V6 24V PDI DOHC</td>\n",
              "      <td>2T2AZMAA8LC156270</td>\n",
              "      <td>HDT4181A</td>\n",
              "      <td>28137</td>\n",
              "    </tr>\n",
              "  </tbody>\n",
              "</table>\n",
              "<p>5 rows × 32 columns</p>\n",
              "</div>\n",
              "      <button class=\"colab-df-convert\" onclick=\"convertToInteractive('df-c2b06c5f-bbad-41c7-8be4-32610f06723d')\"\n",
              "              title=\"Convert this dataframe to an interactive table.\"\n",
              "              style=\"display:none;\">\n",
              "        \n",
              "  <svg xmlns=\"http://www.w3.org/2000/svg\" height=\"24px\"viewBox=\"0 0 24 24\"\n",
              "       width=\"24px\">\n",
              "    <path d=\"M0 0h24v24H0V0z\" fill=\"none\"/>\n",
              "    <path d=\"M18.56 5.44l.94 2.06.94-2.06 2.06-.94-2.06-.94-.94-2.06-.94 2.06-2.06.94zm-11 1L8.5 8.5l.94-2.06 2.06-.94-2.06-.94L8.5 2.5l-.94 2.06-2.06.94zm10 10l.94 2.06.94-2.06 2.06-.94-2.06-.94-.94-2.06-.94 2.06-2.06.94z\"/><path d=\"M17.41 7.96l-1.37-1.37c-.4-.4-.92-.59-1.43-.59-.52 0-1.04.2-1.43.59L10.3 9.45l-7.72 7.72c-.78.78-.78 2.05 0 2.83L4 21.41c.39.39.9.59 1.41.59.51 0 1.02-.2 1.41-.59l7.78-7.78 2.81-2.81c.8-.78.8-2.07 0-2.86zM5.41 20L4 18.59l7.72-7.72 1.47 1.35L5.41 20z\"/>\n",
              "  </svg>\n",
              "      </button>\n",
              "      \n",
              "  <style>\n",
              "    .colab-df-container {\n",
              "      display:flex;\n",
              "      flex-wrap:wrap;\n",
              "      gap: 12px;\n",
              "    }\n",
              "\n",
              "    .colab-df-convert {\n",
              "      background-color: #E8F0FE;\n",
              "      border: none;\n",
              "      border-radius: 50%;\n",
              "      cursor: pointer;\n",
              "      display: none;\n",
              "      fill: #1967D2;\n",
              "      height: 32px;\n",
              "      padding: 0 0 0 0;\n",
              "      width: 32px;\n",
              "    }\n",
              "\n",
              "    .colab-df-convert:hover {\n",
              "      background-color: #E2EBFA;\n",
              "      box-shadow: 0px 1px 2px rgba(60, 64, 67, 0.3), 0px 1px 3px 1px rgba(60, 64, 67, 0.15);\n",
              "      fill: #174EA6;\n",
              "    }\n",
              "\n",
              "    [theme=dark] .colab-df-convert {\n",
              "      background-color: #3B4455;\n",
              "      fill: #D2E3FC;\n",
              "    }\n",
              "\n",
              "    [theme=dark] .colab-df-convert:hover {\n",
              "      background-color: #434B5C;\n",
              "      box-shadow: 0px 1px 3px 1px rgba(0, 0, 0, 0.15);\n",
              "      filter: drop-shadow(0px 1px 2px rgba(0, 0, 0, 0.3));\n",
              "      fill: #FFFFFF;\n",
              "    }\n",
              "  </style>\n",
              "\n",
              "      <script>\n",
              "        const buttonEl =\n",
              "          document.querySelector('#df-c2b06c5f-bbad-41c7-8be4-32610f06723d button.colab-df-convert');\n",
              "        buttonEl.style.display =\n",
              "          google.colab.kernel.accessAllowed ? 'block' : 'none';\n",
              "\n",
              "        async function convertToInteractive(key) {\n",
              "          const element = document.querySelector('#df-c2b06c5f-bbad-41c7-8be4-32610f06723d');\n",
              "          const dataTable =\n",
              "            await google.colab.kernel.invokeFunction('convertToInteractive',\n",
              "                                                     [key], {});\n",
              "          if (!dataTable) return;\n",
              "\n",
              "          const docLinkHtml = 'Like what you see? Visit the ' +\n",
              "            '<a target=\"_blank\" href=https://colab.research.google.com/notebooks/data_table.ipynb>data table notebook</a>'\n",
              "            + ' to learn more about interactive tables.';\n",
              "          element.innerHTML = '';\n",
              "          dataTable['output_type'] = 'display_data';\n",
              "          await google.colab.output.renderOutput(dataTable, element);\n",
              "          const docLink = document.createElement('div');\n",
              "          docLink.innerHTML = docLinkHtml;\n",
              "          element.appendChild(docLink);\n",
              "        }\n",
              "      </script>\n",
              "    </div>\n",
              "  </div>\n",
              "  "
            ]
          },
          "metadata": {},
          "execution_count": 174
        }
      ]
    },
    {
      "cell_type": "code",
      "source": [
        "# prints dataset Info\n",
        "def datasetInfo(dataset):\n",
        "  print(\"Shape of dataset:\",dataset.shape)\n",
        "  print(\"Length of dataset:\",len(dataset))\n",
        "  print(dataset.isnull().sum())\n",
        "  print(\"Dataset describe:\",dataset.describe())\n",
        "  print(\"Dataset info:\",dataset.info())\n",
        "  print(\"Dataset dtype:\",dataset.dtypes)"
      ],
      "metadata": {
        "id": "539flZS7uHxy"
      },
      "execution_count": null,
      "outputs": []
    },
    {
      "cell_type": "code",
      "source": [
        "#perform one-hot encoding\n",
        "def fitData(dataset):\n",
        "  dataset.Drivetrain = dataset.Drivetrain.apply(lambda x: 'AWD' if 'All' in x else ('FWD' if 'Front' in x else (\n",
        "                                                                          '4WD' if 'Four' in x else(\n",
        "                                                                          'RWD' if 'Rear' in x else x))))\n",
        "  drivetrain = sorted(list(dataset['Drivetrain'].unique()))\n",
        "  dataset['Drivetrain'] = le.fit_transform(dataset['Drivetrain'].values.reshape(int(-1),int(1)).ravel())\n",
        "  dataset['Price'] = dataset['Price'].str.replace(',', '').str.replace('$', '')\n",
        "  dataset['Price'] = dataset['Price'].replace('Not Priced',np.NaN)\n",
        "  dataset = dataset.dropna()\n",
        "  dataset['Price']= dataset['Price'].astype(int)\n",
        "  exteriorColor = sorted(list(dataset['ExteriorColor'].unique()))\n",
        "  dataset.ExteriorColor = dataset.ExteriorColor.apply(lambda x: 'red-orange' if x == '0040' else ('medium-dark-cyan' if x =='39525' else x))\n",
        "  dataset['ExteriorColor'] = le.fit_transform(dataset['ExteriorColor'].values.reshape(int(-1),int(1)).ravel())\n",
        "  dataset = dataset.apply(le.fit_transform)\n",
        "  return dataset"
      ],
      "metadata": {
        "id": "oyQ8ECqzvoEO"
      },
      "execution_count": null,
      "outputs": []
    },
    {
      "cell_type": "code",
      "source": [
        "#Creates Correlation Matrix\n",
        "def corrMat(dataset):\n",
        "  corrmat = dataset.corr()\n",
        "  fig = plt.figure(figsize = (14, 14))\n",
        "  sns.heatmap(corrmat, vmax= .9, square=True)\n",
        "  plt.show()"
      ],
      "metadata": {
        "id": "Cbdfcot1ujMP"
      },
      "execution_count": null,
      "outputs": []
    },
    {
      "cell_type": "code",
      "source": [
        "#Performs randomForestRegressor\n",
        "def randomForestRegressor(x_train, x_val, y_train, y_val):\n",
        "  model = RandomForestRegressor()\n",
        "  model.fit(x,y)\n",
        "  importance = model.feature_importances_\n",
        "\n",
        "  for i,v in enumerate(importance):\n",
        "    print('Feature: %0d, Score: %.5f' % (i,v))\n",
        "\n",
        "    pyplot.bar([x for x in range(len(importance))], importance)\n",
        "  pyplot.show()"
      ],
      "metadata": {
        "id": "4O750YSzArof"
      },
      "execution_count": null,
      "outputs": []
    },
    {
      "cell_type": "code",
      "source": [
        "#Performs SVM\n",
        "def SVM(x_train, x_val, y_train, y_val):\n",
        "  model = svm.SVC()\n",
        "  model.fit(x_train, y_train)\n",
        "  svm_score = model.score(x_val, y_val)\n",
        "  return svm_score"
      ],
      "metadata": {
        "id": "EwgZFs5KQkpg"
      },
      "execution_count": null,
      "outputs": []
    },
    {
      "cell_type": "code",
      "source": [
        "#Performs linear regression\n",
        "def linearReg(x_train, x_val, y_train, y_val):\n",
        "  model = LinearRegression()\n",
        "  model.fit(x_train, y_train)\n",
        "  LinR = model.score(x_val, y_val)\n",
        "  return LinR"
      ],
      "metadata": {
        "id": "ZcxoOXmIQ1fY"
      },
      "execution_count": null,
      "outputs": []
    },
    {
      "cell_type": "code",
      "source": [
        "#Performs XG Boost Gradient Descent\n",
        "def XGBRegressor(x_train, x_val, y_train, y_val):\n",
        "  xgbRegressor = xgb.XGBRegressor(n_estimators=1000, max_depth=7, eta=0.1, subsample=0.7, colsample_bytree=0.8)\n",
        "  xgbRegressor.fit(x_train, y_train)\n",
        "  print(xgbRegressor)\n",
        "  y_pred = xgbRegressor.predict(x_val)\n",
        "  mean_squared_error(y_val, y_pred)\n",
        "  temp = np.array(y_val)\n",
        "  correct = 0\n",
        "  for i in range(len(y_val)):\n",
        "    print(\"Actual:\", temp[i][0],\"Predicted:\", y_pred[i])\n",
        "    temp_pred = round(y_pred[i])\n",
        "    if temp_pred == temp[i][0]:\n",
        "      correct += 1\n",
        "  print(correct/len(y_val) * 100, \"%\")"
      ],
      "metadata": {
        "id": "pL11GsVdQ8OA"
      },
      "execution_count": null,
      "outputs": []
    },
    {
      "cell_type": "code",
      "source": [
        "# prints datset info\n",
        "datasetInfo(df)"
      ],
      "metadata": {
        "id": "DDkpQNHwTKO3",
        "colab": {
          "base_uri": "https://localhost:8080/"
        },
        "outputId": "45791a54-a32e-4084-f001-e3acc877b76a"
      },
      "execution_count": null,
      "outputs": [
        {
          "output_type": "stream",
          "name": "stdout",
          "text": [
            "Shape of dataset: (9379, 32)\n",
            "Length of dataset: 9379\n",
            "Year                       0\n",
            "Make                       0\n",
            "Model                      0\n",
            "Used/New                   0\n",
            "Price                      0\n",
            "ConsumerRating             0\n",
            "ConsumerReviews            0\n",
            "SellerType                 0\n",
            "SellerName                 0\n",
            "SellerRating               0\n",
            "SellerReviews              0\n",
            "StreetName                 0\n",
            "State                      0\n",
            "Zipcode                    0\n",
            "DealType                 222\n",
            "ComfortRating              0\n",
            "InteriorDesignRating       0\n",
            "PerformanceRating          0\n",
            "ValueForMoneyRating        0\n",
            "ExteriorStylingRating      0\n",
            "ReliabilityRating          0\n",
            "ExteriorColor              0\n",
            "InteriorColor              0\n",
            "Drivetrain                 0\n",
            "MinMPG                     0\n",
            "MaxMPG                     0\n",
            "FuelType                   0\n",
            "Transmission               0\n",
            "Engine                     0\n",
            "VIN                        0\n",
            "Stock#                     0\n",
            "Mileage                    0\n",
            "dtype: int64\n",
            "Dataset describe:               Year  ConsumerRating  ConsumerReviews  SellerRating  \\\n",
            "count  9379.000000     9379.000000      9379.000000   9379.000000   \n",
            "mean   2018.721719        4.702825       133.187014      4.412571   \n",
            "std       2.221708        0.240795       154.985640      0.626258   \n",
            "min    2001.000000        2.500000         1.000000      1.000000   \n",
            "25%    2018.000000        4.700000        30.000000      4.300000   \n",
            "50%    2019.000000        4.800000        75.000000      4.600000   \n",
            "75%    2020.000000        4.800000       182.000000      4.800000   \n",
            "max    2022.000000        5.000000       817.000000      5.000000   \n",
            "\n",
            "       SellerReviews  ComfortRating  InteriorDesignRating  PerformanceRating  \\\n",
            "count    9379.000000    9379.000000           9379.000000        9379.000000   \n",
            "mean      984.089988       4.771895              4.727391           4.696290   \n",
            "std      1609.039864       0.217822              0.194391           0.253664   \n",
            "min         1.000000       3.000000              2.800000           1.000000   \n",
            "25%       112.000000       4.700000              4.700000           4.600000   \n",
            "50%       542.000000       4.800000              4.800000           4.700000   \n",
            "75%      1272.000000       4.900000              4.800000           4.800000   \n",
            "max     27824.000000       5.000000              5.000000           5.000000   \n",
            "\n",
            "       ValueForMoneyRating  ExteriorStylingRating  ReliabilityRating  \\\n",
            "count          9379.000000            9379.000000        9379.000000   \n",
            "mean              4.537083               4.782194           4.681746   \n",
            "std               0.338098               0.171537           0.368161   \n",
            "min               1.000000               3.000000           1.000000   \n",
            "25%               4.500000               4.700000           4.600000   \n",
            "50%               4.600000               4.800000           4.800000   \n",
            "75%               4.700000               4.900000           4.900000   \n",
            "max               5.000000               5.000000           5.000000   \n",
            "\n",
            "            MinMPG       MaxMPG        Mileage  \n",
            "count  9379.000000  9379.000000    9379.000000  \n",
            "mean     22.755411    29.216548   37463.023350  \n",
            "std      14.812869    12.809783   24970.342569  \n",
            "min       0.000000     0.000000     121.000000  \n",
            "25%      18.000000    25.000000   18666.500000  \n",
            "50%      20.000000    27.000000   32907.000000  \n",
            "75%      24.000000    31.000000   47698.000000  \n",
            "max     150.000000   133.000000  234114.000000  \n",
            "<class 'pandas.core.frame.DataFrame'>\n",
            "RangeIndex: 9379 entries, 0 to 9378\n",
            "Data columns (total 32 columns):\n",
            " #   Column                 Non-Null Count  Dtype  \n",
            "---  ------                 --------------  -----  \n",
            " 0   Year                   9379 non-null   int64  \n",
            " 1   Make                   9379 non-null   object \n",
            " 2   Model                  9379 non-null   object \n",
            " 3   Used/New               9379 non-null   object \n",
            " 4   Price                  9379 non-null   object \n",
            " 5   ConsumerRating         9379 non-null   float64\n",
            " 6   ConsumerReviews        9379 non-null   int64  \n",
            " 7   SellerType             9379 non-null   object \n",
            " 8   SellerName             9379 non-null   object \n",
            " 9   SellerRating           9379 non-null   float64\n",
            " 10  SellerReviews          9379 non-null   int64  \n",
            " 11  StreetName             9379 non-null   object \n",
            " 12  State                  9379 non-null   object \n",
            " 13  Zipcode                9379 non-null   object \n",
            " 14  DealType               9157 non-null   object \n",
            " 15  ComfortRating          9379 non-null   float64\n",
            " 16  InteriorDesignRating   9379 non-null   float64\n",
            " 17  PerformanceRating      9379 non-null   float64\n",
            " 18  ValueForMoneyRating    9379 non-null   float64\n",
            " 19  ExteriorStylingRating  9379 non-null   float64\n",
            " 20  ReliabilityRating      9379 non-null   float64\n",
            " 21  ExteriorColor          9379 non-null   object \n",
            " 22  InteriorColor          9379 non-null   object \n",
            " 23  Drivetrain             9379 non-null   object \n",
            " 24  MinMPG                 9379 non-null   int64  \n",
            " 25  MaxMPG                 9379 non-null   int64  \n",
            " 26  FuelType               9379 non-null   object \n",
            " 27  Transmission           9379 non-null   object \n",
            " 28  Engine                 9379 non-null   object \n",
            " 29  VIN                    9379 non-null   object \n",
            " 30  Stock#                 9379 non-null   object \n",
            " 31  Mileage                9379 non-null   int64  \n",
            "dtypes: float64(8), int64(6), object(18)\n",
            "memory usage: 2.3+ MB\n",
            "Dataset info: None\n",
            "Dataset dtype: Year                       int64\n",
            "Make                      object\n",
            "Model                     object\n",
            "Used/New                  object\n",
            "Price                     object\n",
            "ConsumerRating           float64\n",
            "ConsumerReviews            int64\n",
            "SellerType                object\n",
            "SellerName                object\n",
            "SellerRating             float64\n",
            "SellerReviews              int64\n",
            "StreetName                object\n",
            "State                     object\n",
            "Zipcode                   object\n",
            "DealType                  object\n",
            "ComfortRating            float64\n",
            "InteriorDesignRating     float64\n",
            "PerformanceRating        float64\n",
            "ValueForMoneyRating      float64\n",
            "ExteriorStylingRating    float64\n",
            "ReliabilityRating        float64\n",
            "ExteriorColor             object\n",
            "InteriorColor             object\n",
            "Drivetrain                object\n",
            "MinMPG                     int64\n",
            "MaxMPG                     int64\n",
            "FuelType                  object\n",
            "Transmission              object\n",
            "Engine                    object\n",
            "VIN                       object\n",
            "Stock#                    object\n",
            "Mileage                    int64\n",
            "dtype: object\n"
          ]
        }
      ]
    },
    {
      "cell_type": "code",
      "source": [
        "# encodes data\n",
        "fitted_dataset = fitData(df)"
      ],
      "metadata": {
        "id": "oLm3eovwuW5L",
        "colab": {
          "base_uri": "https://localhost:8080/"
        },
        "outputId": "9bc2637c-fc19-49cd-fa5d-6d79a06eca82"
      },
      "execution_count": null,
      "outputs": [
        {
          "output_type": "stream",
          "name": "stderr",
          "text": [
            "/usr/local/lib/python3.7/dist-packages/ipykernel_launcher.py:8: FutureWarning: The default value of regex will change from True to False in a future version. In addition, single character regular expressions will *not* be treated as literal strings when regex=True.\n",
            "  \n",
            "/usr/local/lib/python3.7/dist-packages/ipykernel_launcher.py:11: SettingWithCopyWarning: \n",
            "A value is trying to be set on a copy of a slice from a DataFrame.\n",
            "Try using .loc[row_indexer,col_indexer] = value instead\n",
            "\n",
            "See the caveats in the documentation: https://pandas.pydata.org/pandas-docs/stable/user_guide/indexing.html#returning-a-view-versus-a-copy\n",
            "  # This is added back by InteractiveShellApp.init_path()\n",
            "/usr/local/lib/python3.7/dist-packages/pandas/core/generic.py:5516: SettingWithCopyWarning: \n",
            "A value is trying to be set on a copy of a slice from a DataFrame.\n",
            "Try using .loc[row_indexer,col_indexer] = value instead\n",
            "\n",
            "See the caveats in the documentation: https://pandas.pydata.org/pandas-docs/stable/user_guide/indexing.html#returning-a-view-versus-a-copy\n",
            "  self[name] = value\n",
            "/usr/local/lib/python3.7/dist-packages/ipykernel_launcher.py:14: SettingWithCopyWarning: \n",
            "A value is trying to be set on a copy of a slice from a DataFrame.\n",
            "Try using .loc[row_indexer,col_indexer] = value instead\n",
            "\n",
            "See the caveats in the documentation: https://pandas.pydata.org/pandas-docs/stable/user_guide/indexing.html#returning-a-view-versus-a-copy\n",
            "  \n"
          ]
        }
      ]
    },
    {
      "cell_type": "code",
      "source": [
        "# display first 5 elements\n",
        "fitted_dataset.head(5)"
      ],
      "metadata": {
        "id": "CVvUiPrzJqj1",
        "colab": {
          "base_uri": "https://localhost:8080/",
          "height": 300
        },
        "outputId": "97903db9-4774-4154-e6ed-b12e7ec96e41"
      },
      "execution_count": null,
      "outputs": [
        {
          "output_type": "execute_result",
          "data": {
            "text/plain": [
              "   Year  Make  Model  Used/New  Price  ConsumerRating  ConsumerReviews  \\\n",
              "0    16    37    997        21   2913              17               44   \n",
              "1    15    11    398        21   3846              19              317   \n",
              "2    14    32      4        21   3094              18              297   \n",
              "4    17    22    853        21   3782              19               75   \n",
              "5     9    37     46        21    595              18               33   \n",
              "\n",
              "   SellerType  SellerName  SellerRating  ...  InteriorColor  Drivetrain  \\\n",
              "0           0         874            22  ...             33           2   \n",
              "1           0        1585            37  ...             33           0   \n",
              "2           0        1587            35  ...             33           0   \n",
              "4           0        2294            37  ...             32           2   \n",
              "5           0         385            33  ...            358           3   \n",
              "\n",
              "   MinMPG  MaxMPG  FuelType  Transmission  Engine   VIN  Stock#  Mileage  \n",
              "0      10      14         6            45     136  4454    1198     3355  \n",
              "1      10      11         6             6     138  1008     909     3827  \n",
              "2       6       8         6            45     208   595    5977     2774  \n",
              "4      11      14         6            45     136  2320    3879     3275  \n",
              "5       8      10         6            13     171  6005    3016     7485  \n",
              "\n",
              "[5 rows x 32 columns]"
            ],
            "text/html": [
              "\n",
              "  <div id=\"df-c1dfae0a-43e2-401a-afc6-f0e1eedcdad4\">\n",
              "    <div class=\"colab-df-container\">\n",
              "      <div>\n",
              "<style scoped>\n",
              "    .dataframe tbody tr th:only-of-type {\n",
              "        vertical-align: middle;\n",
              "    }\n",
              "\n",
              "    .dataframe tbody tr th {\n",
              "        vertical-align: top;\n",
              "    }\n",
              "\n",
              "    .dataframe thead th {\n",
              "        text-align: right;\n",
              "    }\n",
              "</style>\n",
              "<table border=\"1\" class=\"dataframe\">\n",
              "  <thead>\n",
              "    <tr style=\"text-align: right;\">\n",
              "      <th></th>\n",
              "      <th>Year</th>\n",
              "      <th>Make</th>\n",
              "      <th>Model</th>\n",
              "      <th>Used/New</th>\n",
              "      <th>Price</th>\n",
              "      <th>ConsumerRating</th>\n",
              "      <th>ConsumerReviews</th>\n",
              "      <th>SellerType</th>\n",
              "      <th>SellerName</th>\n",
              "      <th>SellerRating</th>\n",
              "      <th>...</th>\n",
              "      <th>InteriorColor</th>\n",
              "      <th>Drivetrain</th>\n",
              "      <th>MinMPG</th>\n",
              "      <th>MaxMPG</th>\n",
              "      <th>FuelType</th>\n",
              "      <th>Transmission</th>\n",
              "      <th>Engine</th>\n",
              "      <th>VIN</th>\n",
              "      <th>Stock#</th>\n",
              "      <th>Mileage</th>\n",
              "    </tr>\n",
              "  </thead>\n",
              "  <tbody>\n",
              "    <tr>\n",
              "      <th>0</th>\n",
              "      <td>16</td>\n",
              "      <td>37</td>\n",
              "      <td>997</td>\n",
              "      <td>21</td>\n",
              "      <td>2913</td>\n",
              "      <td>17</td>\n",
              "      <td>44</td>\n",
              "      <td>0</td>\n",
              "      <td>874</td>\n",
              "      <td>22</td>\n",
              "      <td>...</td>\n",
              "      <td>33</td>\n",
              "      <td>2</td>\n",
              "      <td>10</td>\n",
              "      <td>14</td>\n",
              "      <td>6</td>\n",
              "      <td>45</td>\n",
              "      <td>136</td>\n",
              "      <td>4454</td>\n",
              "      <td>1198</td>\n",
              "      <td>3355</td>\n",
              "    </tr>\n",
              "    <tr>\n",
              "      <th>1</th>\n",
              "      <td>15</td>\n",
              "      <td>11</td>\n",
              "      <td>398</td>\n",
              "      <td>21</td>\n",
              "      <td>3846</td>\n",
              "      <td>19</td>\n",
              "      <td>317</td>\n",
              "      <td>0</td>\n",
              "      <td>1585</td>\n",
              "      <td>37</td>\n",
              "      <td>...</td>\n",
              "      <td>33</td>\n",
              "      <td>0</td>\n",
              "      <td>10</td>\n",
              "      <td>11</td>\n",
              "      <td>6</td>\n",
              "      <td>6</td>\n",
              "      <td>138</td>\n",
              "      <td>1008</td>\n",
              "      <td>909</td>\n",
              "      <td>3827</td>\n",
              "    </tr>\n",
              "    <tr>\n",
              "      <th>2</th>\n",
              "      <td>14</td>\n",
              "      <td>32</td>\n",
              "      <td>4</td>\n",
              "      <td>21</td>\n",
              "      <td>3094</td>\n",
              "      <td>18</td>\n",
              "      <td>297</td>\n",
              "      <td>0</td>\n",
              "      <td>1587</td>\n",
              "      <td>35</td>\n",
              "      <td>...</td>\n",
              "      <td>33</td>\n",
              "      <td>0</td>\n",
              "      <td>6</td>\n",
              "      <td>8</td>\n",
              "      <td>6</td>\n",
              "      <td>45</td>\n",
              "      <td>208</td>\n",
              "      <td>595</td>\n",
              "      <td>5977</td>\n",
              "      <td>2774</td>\n",
              "    </tr>\n",
              "    <tr>\n",
              "      <th>4</th>\n",
              "      <td>17</td>\n",
              "      <td>22</td>\n",
              "      <td>853</td>\n",
              "      <td>21</td>\n",
              "      <td>3782</td>\n",
              "      <td>19</td>\n",
              "      <td>75</td>\n",
              "      <td>0</td>\n",
              "      <td>2294</td>\n",
              "      <td>37</td>\n",
              "      <td>...</td>\n",
              "      <td>32</td>\n",
              "      <td>2</td>\n",
              "      <td>11</td>\n",
              "      <td>14</td>\n",
              "      <td>6</td>\n",
              "      <td>45</td>\n",
              "      <td>136</td>\n",
              "      <td>2320</td>\n",
              "      <td>3879</td>\n",
              "      <td>3275</td>\n",
              "    </tr>\n",
              "    <tr>\n",
              "      <th>5</th>\n",
              "      <td>9</td>\n",
              "      <td>37</td>\n",
              "      <td>46</td>\n",
              "      <td>21</td>\n",
              "      <td>595</td>\n",
              "      <td>18</td>\n",
              "      <td>33</td>\n",
              "      <td>0</td>\n",
              "      <td>385</td>\n",
              "      <td>33</td>\n",
              "      <td>...</td>\n",
              "      <td>358</td>\n",
              "      <td>3</td>\n",
              "      <td>8</td>\n",
              "      <td>10</td>\n",
              "      <td>6</td>\n",
              "      <td>13</td>\n",
              "      <td>171</td>\n",
              "      <td>6005</td>\n",
              "      <td>3016</td>\n",
              "      <td>7485</td>\n",
              "    </tr>\n",
              "  </tbody>\n",
              "</table>\n",
              "<p>5 rows × 32 columns</p>\n",
              "</div>\n",
              "      <button class=\"colab-df-convert\" onclick=\"convertToInteractive('df-c1dfae0a-43e2-401a-afc6-f0e1eedcdad4')\"\n",
              "              title=\"Convert this dataframe to an interactive table.\"\n",
              "              style=\"display:none;\">\n",
              "        \n",
              "  <svg xmlns=\"http://www.w3.org/2000/svg\" height=\"24px\"viewBox=\"0 0 24 24\"\n",
              "       width=\"24px\">\n",
              "    <path d=\"M0 0h24v24H0V0z\" fill=\"none\"/>\n",
              "    <path d=\"M18.56 5.44l.94 2.06.94-2.06 2.06-.94-2.06-.94-.94-2.06-.94 2.06-2.06.94zm-11 1L8.5 8.5l.94-2.06 2.06-.94-2.06-.94L8.5 2.5l-.94 2.06-2.06.94zm10 10l.94 2.06.94-2.06 2.06-.94-2.06-.94-.94-2.06-.94 2.06-2.06.94z\"/><path d=\"M17.41 7.96l-1.37-1.37c-.4-.4-.92-.59-1.43-.59-.52 0-1.04.2-1.43.59L10.3 9.45l-7.72 7.72c-.78.78-.78 2.05 0 2.83L4 21.41c.39.39.9.59 1.41.59.51 0 1.02-.2 1.41-.59l7.78-7.78 2.81-2.81c.8-.78.8-2.07 0-2.86zM5.41 20L4 18.59l7.72-7.72 1.47 1.35L5.41 20z\"/>\n",
              "  </svg>\n",
              "      </button>\n",
              "      \n",
              "  <style>\n",
              "    .colab-df-container {\n",
              "      display:flex;\n",
              "      flex-wrap:wrap;\n",
              "      gap: 12px;\n",
              "    }\n",
              "\n",
              "    .colab-df-convert {\n",
              "      background-color: #E8F0FE;\n",
              "      border: none;\n",
              "      border-radius: 50%;\n",
              "      cursor: pointer;\n",
              "      display: none;\n",
              "      fill: #1967D2;\n",
              "      height: 32px;\n",
              "      padding: 0 0 0 0;\n",
              "      width: 32px;\n",
              "    }\n",
              "\n",
              "    .colab-df-convert:hover {\n",
              "      background-color: #E2EBFA;\n",
              "      box-shadow: 0px 1px 2px rgba(60, 64, 67, 0.3), 0px 1px 3px 1px rgba(60, 64, 67, 0.15);\n",
              "      fill: #174EA6;\n",
              "    }\n",
              "\n",
              "    [theme=dark] .colab-df-convert {\n",
              "      background-color: #3B4455;\n",
              "      fill: #D2E3FC;\n",
              "    }\n",
              "\n",
              "    [theme=dark] .colab-df-convert:hover {\n",
              "      background-color: #434B5C;\n",
              "      box-shadow: 0px 1px 3px 1px rgba(0, 0, 0, 0.15);\n",
              "      filter: drop-shadow(0px 1px 2px rgba(0, 0, 0, 0.3));\n",
              "      fill: #FFFFFF;\n",
              "    }\n",
              "  </style>\n",
              "\n",
              "      <script>\n",
              "        const buttonEl =\n",
              "          document.querySelector('#df-c1dfae0a-43e2-401a-afc6-f0e1eedcdad4 button.colab-df-convert');\n",
              "        buttonEl.style.display =\n",
              "          google.colab.kernel.accessAllowed ? 'block' : 'none';\n",
              "\n",
              "        async function convertToInteractive(key) {\n",
              "          const element = document.querySelector('#df-c1dfae0a-43e2-401a-afc6-f0e1eedcdad4');\n",
              "          const dataTable =\n",
              "            await google.colab.kernel.invokeFunction('convertToInteractive',\n",
              "                                                     [key], {});\n",
              "          if (!dataTable) return;\n",
              "\n",
              "          const docLinkHtml = 'Like what you see? Visit the ' +\n",
              "            '<a target=\"_blank\" href=https://colab.research.google.com/notebooks/data_table.ipynb>data table notebook</a>'\n",
              "            + ' to learn more about interactive tables.';\n",
              "          element.innerHTML = '';\n",
              "          dataTable['output_type'] = 'display_data';\n",
              "          await google.colab.output.renderOutput(dataTable, element);\n",
              "          const docLink = document.createElement('div');\n",
              "          docLink.innerHTML = docLinkHtml;\n",
              "          element.appendChild(docLink);\n",
              "        }\n",
              "      </script>\n",
              "    </div>\n",
              "  </div>\n",
              "  "
            ]
          },
          "metadata": {},
          "execution_count": 184
        }
      ]
    },
    {
      "cell_type": "code",
      "source": [
        "# creates correlation matrix for fitted_dataset\n",
        "corrMat(fitted_dataset)"
      ],
      "metadata": {
        "id": "8sUb0CSNfKb2",
        "colab": {
          "base_uri": "https://localhost:8080/",
          "height": 839
        },
        "outputId": "3d85f037-496e-4ce6-9695-b8180b08f4a1"
      },
      "execution_count": null,
      "outputs": [
        {
          "output_type": "display_data",
          "data": {
            "text/plain": [
              "<Figure size 1008x1008 with 2 Axes>"
            ],
            "image/png": "[encoded data removed]"
          },
          "metadata": {
            "needs_background": "light"
          }
        }
      ]
    },
    {
      "cell_type": "code",
      "source": [
        "# splits Consumer Rating from the rest of the datset, then splits the train set and test set\n",
        "x=fitted_dataset.iloc[:,fitted_dataset.columns != 'ConsumerRating']\n",
        "y=fitted_dataset.iloc[:,fitted_dataset.columns == 'ConsumerRating']\n",
        "x_train, x_val, y_train, y_val = train_test_split(x, y, test_size=.3)"
      ],
      "metadata": {
        "id": "M9hljwsJAx5O"
      },
      "execution_count": null,
      "outputs": []
    },
    {
      "cell_type": "code",
      "source": [
        "# performs random Forest regressor on the fitted dataset\n",
        "randomForestRegressor(x_train, x_val, y_train, y_val)"
      ],
      "metadata": {
        "id": "0w10hD7arxaf",
        "colab": {
          "base_uri": "https://localhost:8080/",
          "height": 858
        },
        "outputId": "15b39365-6c89-49e2-8e4c-06fa6cc9fee5"
      },
      "execution_count": null,
      "outputs": [
        {
          "output_type": "stream",
          "name": "stderr",
          "text": [
            "/usr/local/lib/python3.7/dist-packages/ipykernel_launcher.py:4: DataConversionWarning: A column-vector y was passed when a 1d array was expected. Please change the shape of y to (n_samples,), for example using ravel().\n",
            "  after removing the cwd from sys.path.\n"
          ]
        },
        {
          "output_type": "stream",
          "name": "stdout",
          "text": [
            "Feature: 0, Score: 0.00230\n",
            "Feature: 1, Score: 0.00159\n",
            "Feature: 2, Score: 0.00212\n",
            "Feature: 3, Score: 0.00004\n",
            "Feature: 4, Score: 0.00169\n",
            "Feature: 5, Score: 0.00403\n",
            "Feature: 6, Score: 0.00001\n",
            "Feature: 7, Score: 0.00029\n",
            "Feature: 8, Score: 0.00017\n",
            "Feature: 9, Score: 0.00020\n",
            "Feature: 10, Score: 0.00021\n",
            "Feature: 11, Score: 0.00016\n",
            "Feature: 12, Score: 0.00026\n",
            "Feature: 13, Score: 0.00004\n",
            "Feature: 14, Score: 0.02114\n",
            "Feature: 15, Score: 0.02610\n",
            "Feature: 16, Score: 0.12255\n",
            "Feature: 17, Score: 0.34707\n",
            "Feature: 18, Score: 0.00758\n",
            "Feature: 19, Score: 0.45538\n",
            "Feature: 20, Score: 0.00021\n",
            "Feature: 21, Score: 0.00018\n",
            "Feature: 22, Score: 0.00015\n",
            "Feature: 23, Score: 0.00097\n",
            "Feature: 24, Score: 0.00112\n",
            "Feature: 25, Score: 0.00015\n",
            "Feature: 26, Score: 0.00087\n",
            "Feature: 27, Score: 0.00094\n",
            "Feature: 28, Score: 0.00188\n",
            "Feature: 29, Score: 0.00020\n",
            "Feature: 30, Score: 0.00038\n"
          ]
        },
        {
          "output_type": "display_data",
          "data": {
            "text/plain": [
              "<Figure size 432x288 with 1 Axes>"
            ],
            "image/png": "[encoded data removed]"
          },
          "metadata": {
            "needs_background": "light"
          }
        }
      ]
    },
    {
      "cell_type": "code",
      "source": [
        "#performs SVM\n",
        "SVM(x_train, x_val, y_train, y_val)"
      ],
      "metadata": {
        "colab": {
          "base_uri": "https://localhost:8080/"
        },
        "id": "6zSX_Mh-Py6e",
        "outputId": "44737785-a699-471f-dc63-1ec6de62ccb4"
      },
      "execution_count": null,
      "outputs": [
        {
          "output_type": "stream",
          "name": "stderr",
          "text": [
            "/usr/local/lib/python3.7/dist-packages/sklearn/utils/validation.py:993: DataConversionWarning: A column-vector y was passed when a 1d array was expected. Please change the shape of y to (n_samples, ), for example using ravel().\n",
            "  y = column_or_1d(y, warn=True)\n"
          ]
        },
        {
          "output_type": "execute_result",
          "data": {
            "text/plain": [
              "0.39475600873998545"
            ]
          },
          "metadata": {},
          "execution_count": 188
        }
      ]
    },
    {
      "cell_type": "code",
      "source": [
        "# splits the 6 features that affect consumer ratings\n",
        "x=fitted_dataset[[\"ComfortRating\", \"InteriorDesignRating\", \"PerformanceRating\", \"ValueForMoneyRating\", \"ExteriorStylingRating\", \"ReliabilityRating\"]]\n",
        "y=fitted_dataset[['ConsumerRating']]\n",
        "x_train, x_val, y_train, y_val = train_test_split(x, y, test_size=.3)"
      ],
      "metadata": {
        "id": "TngKtHDX79m9"
      },
      "execution_count": null,
      "outputs": []
    },
    {
      "cell_type": "code",
      "source": [
        "# trying to use these six features to predict consumer rating\n",
        "randomForestRegressor(x_train, x_val, y_train, y_val)"
      ],
      "metadata": {
        "colab": {
          "base_uri": "https://localhost:8080/",
          "height": 424
        },
        "id": "a_-Z1bp-Pdgd",
        "outputId": "f2ca4ae3-96c0-49d5-c944-bf41cb8598da"
      },
      "execution_count": null,
      "outputs": [
        {
          "output_type": "stream",
          "name": "stderr",
          "text": [
            "/usr/local/lib/python3.7/dist-packages/ipykernel_launcher.py:4: DataConversionWarning: A column-vector y was passed when a 1d array was expected. Please change the shape of y to (n_samples,), for example using ravel().\n",
            "  after removing the cwd from sys.path.\n"
          ]
        },
        {
          "output_type": "stream",
          "name": "stdout",
          "text": [
            "Feature: 0, Score: 0.02372\n",
            "Feature: 1, Score: 0.02962\n",
            "Feature: 2, Score: 0.11735\n",
            "Feature: 3, Score: 0.31108\n",
            "Feature: 4, Score: 0.01030\n",
            "Feature: 5, Score: 0.50792\n"
          ]
        },
        {
          "output_type": "display_data",
          "data": {
            "text/plain": [
              "<Figure size 432x288 with 1 Axes>"
            ],
            "image/png": "[encoded data removed]"
          },
          "metadata": {
            "needs_background": "light"
          }
        }
      ]
    },
    {
      "cell_type": "code",
      "source": [
        "#performs SVM using the 6 features to predict consumer rating\n",
        "SVM(x_train, x_val, y_train, y_val)"
      ],
      "metadata": {
        "colab": {
          "base_uri": "https://localhost:8080/"
        },
        "id": "gLTBwQD5_fkl",
        "outputId": "e5b14729-711a-4186-d602-7877d43eb290"
      },
      "execution_count": null,
      "outputs": [
        {
          "output_type": "stream",
          "name": "stderr",
          "text": [
            "/usr/local/lib/python3.7/dist-packages/sklearn/utils/validation.py:993: DataConversionWarning: A column-vector y was passed when a 1d array was expected. Please change the shape of y to (n_samples, ), for example using ravel().\n",
            "  y = column_or_1d(y, warn=True)\n"
          ]
        },
        {
          "output_type": "execute_result",
          "data": {
            "text/plain": [
              "0.8889293517844137"
            ]
          },
          "metadata": {},
          "execution_count": 191
        }
      ]
    },
    {
      "cell_type": "code",
      "source": [
        "#performs linear Regression using 6 features to preditc consumer rating\n",
        "linearReg(x_train, x_val, y_train, y_val)"
      ],
      "metadata": {
        "colab": {
          "base_uri": "https://localhost:8080/"
        },
        "id": "eEtrYSMAQ07L",
        "outputId": "7352d1ff-b0ed-4496-ced7-9a389b990a20"
      },
      "execution_count": null,
      "outputs": [
        {
          "output_type": "execute_result",
          "data": {
            "text/plain": [
              "0.971521645007096"
            ]
          },
          "metadata": {},
          "execution_count": 192
        }
      ]
    },
    {
      "cell_type": "code",
      "source": [
        "# testing how interchangable the 6 features and consumer rating are\n",
        "x=fitted_dataset.iloc[:,fitted_dataset.columns != 'Price']\n",
        "y=fitted_dataset.iloc[:,fitted_dataset.columns == 'Price']\n",
        "x_train, x_val, y_train, y_val = train_test_split(x, y, test_size=.3)"
      ],
      "metadata": {
        "id": "rEsSWKykP5G0"
      },
      "execution_count": null,
      "outputs": []
    },
    {
      "cell_type": "code",
      "source": [
        "randomForestRegressor(x_train, x_val, y_train, y_val)"
      ],
      "metadata": {
        "id": "pmfKwJb46dOt"
      },
      "execution_count": null,
      "outputs": []
    },
    {
      "cell_type": "code",
      "source": [
        "linearReg(x_train, x_val, y_train, y_val)"
      ],
      "metadata": {
        "colab": {
          "base_uri": "https://localhost:8080/"
        },
        "id": "teKrdR_nTYjC",
        "outputId": "8b151eab-34b3-4570-e250-f27cba5cfe08"
      },
      "execution_count": null,
      "outputs": [
        {
          "output_type": "execute_result",
          "data": {
            "text/plain": [
              "0.6992249914416873"
            ]
          },
          "metadata": {},
          "execution_count": 194
        }
      ]
    },
    {
      "cell_type": "code",
      "source": [
        "#test without the 6 features\n",
        "x=fitted_dataset[[\"Year\", \"Make\",\"Model\",\"Used/New\",\"ConsumerRating\",\"ConsumerReviews\",\n",
        "      \"SellerType\",\"SellerName\",\"SellerRating\",\"SellerReviews\",\"StreetName\",\n",
        "      \"State\",\"Zipcode\",\"DealType\",\"ExteriorColor\",\"InteriorColor\",\"Drivetrain\",\n",
        "      \"MinMPG\",\"MaxMPG\",\"FuelType\",\"Transmission\",\"Engine\",\"VIN\",\"Stock#\",\n",
        "      \"Mileage\"]]\n",
        "y=fitted_dataset.iloc[:,fitted_dataset.columns == 'Price']\n",
        "x_train, x_val, y_train, y_val = train_test_split(x, y, test_size=.3)"
      ],
      "metadata": {
        "id": "G-uIcdpJQ8UI"
      },
      "execution_count": null,
      "outputs": []
    },
    {
      "cell_type": "code",
      "source": [
        "linearReg(x_train, x_val, y_train, y_val)"
      ],
      "metadata": {
        "colab": {
          "base_uri": "https://localhost:8080/"
        },
        "id": "THpJPYlFTl3H",
        "outputId": "772235aa-9ba0-4afb-f892-6d9fb0938645"
      },
      "execution_count": null,
      "outputs": [
        {
          "output_type": "execute_result",
          "data": {
            "text/plain": [
              "0.6269941227728733"
            ]
          },
          "metadata": {},
          "execution_count": 196
        }
      ]
    },
    {
      "cell_type": "code",
      "source": [
        "# test with the 6 features \n",
        "x=fitted_dataset[[\"Year\", \"Make\",\"Model\",\"Used/New\",\"ComfortRating\", \"InteriorDesignRating\", \"PerformanceRating\", \"ValueForMoneyRating\", \"ExteriorStylingRating\", \"ReliabilityRating\",\"ConsumerReviews\",\n",
        "      \"SellerType\",\"SellerName\",\"SellerRating\",\"SellerReviews\",\"StreetName\",\n",
        "      \"State\",\"Zipcode\",\"DealType\",\"ExteriorColor\",\"InteriorColor\",\"Drivetrain\",\n",
        "      \"MinMPG\",\"MaxMPG\",\"FuelType\",\"Transmission\",\"Engine\",\"VIN\",\"Stock#\",\n",
        "      \"Mileage\"]]\n",
        "y=fitted_dataset.iloc[:,fitted_dataset.columns == 'Price']\n",
        "x_train, x_val, y_train, y_val = train_test_split(x, y, test_size=.3)"
      ],
      "metadata": {
        "id": "bviiLJWfFLVU"
      },
      "execution_count": null,
      "outputs": []
    },
    {
      "cell_type": "code",
      "source": [
        "linearReg(x_train, x_val, y_train, y_val)"
      ],
      "metadata": {
        "colab": {
          "base_uri": "https://localhost:8080/"
        },
        "id": "IOYqgoG8TKMi",
        "outputId": "ac0c4387-2959-4a15-90e8-5672ff351be3"
      },
      "execution_count": null,
      "outputs": [
        {
          "output_type": "execute_result",
          "data": {
            "text/plain": [
              "0.6755074362738944"
            ]
          },
          "metadata": {},
          "execution_count": 198
        }
      ]
    },
    {
      "cell_type": "code",
      "source": [
        "# cleaner dataset deleting ConsumerRating\n",
        "df = df.drop(['ConsumerRating'],axis=1)\n",
        "df.head()"
      ],
      "metadata": {
        "colab": {
          "base_uri": "https://localhost:8080/",
          "height": 647
        },
        "id": "C_2J-ssF7tjx",
        "outputId": "8ba8a21f-0b71-4066-fa10-2404ca1d3e56"
      },
      "execution_count": null,
      "outputs": [
        {
          "output_type": "execute_result",
          "data": {
            "text/plain": [
              "   Year    Make            Model Used/New  Price  ConsumerReviews SellerType  \\\n",
              "0  2019  Toyota        Sienna SE     Used  39998               45     Dealer   \n",
              "1  2018    Ford     F-150 Lariat     Used  49985              817     Dealer   \n",
              "2  2017     RAM     1500 Laramie     Used  41860              495     Dealer   \n",
              "3  2021   Honda  Accord Sport SE     Used  28500               36     Dealer   \n",
              "4  2020   Lexus           RX 350     Used  49000               76     Dealer   \n",
              "\n",
              "                                          SellerName  SellerRating  \\\n",
              "0  CarMax Murrieta - Now offering Curbside Pickup...           3.3   \n",
              "1                                    Giant Chevrolet           4.8   \n",
              "2                             Gill Auto Group Madera           4.6   \n",
              "3                                AutoSavvy Las Vegas           4.6   \n",
              "4                                 Lexus of Henderson           4.8   \n",
              "\n",
              "   SellerReviews  ... InteriorColor Drivetrain MinMPG MaxMPG  FuelType  \\\n",
              "0              3  ...         Black          2     19     27  Gasoline   \n",
              "1            131  ...         Black          0     19     24  Gasoline   \n",
              "2            249  ...         Black          0     15     21  Gasoline   \n",
              "3            284  ...             –          2     29     35  Gasoline   \n",
              "4           4755  ...         Birch          2     20     27  Gasoline   \n",
              "\n",
              "         Transmission                           Engine                VIN  \\\n",
              "0   8-Speed Automatic             3.5L V6 24V PDI DOHC  5TDXZ3DC2KS015402   \n",
              "1  10-Speed Automatic  3.5L V6 24V PDI DOHC Twin Turbo  1FTEW1EG2JFD44217   \n",
              "2   8-Speed Automatic             5.7L V8 16V MPFI OHV  1C6RR7VT5HS842283   \n",
              "3       Automatic CVT       1.5L I4 16V GDI DOHC Turbo  1HGCV1F49MA038035   \n",
              "4   8-Speed Automatic             3.5L V6 24V PDI DOHC  2T2AZMAA8LC156270   \n",
              "\n",
              "      Stock#  Mileage  \n",
              "0   22998646    29403  \n",
              "1     22418A    32929  \n",
              "2  NG277871G    23173  \n",
              "3      54237    10598  \n",
              "4   HDT4181A    28137  \n",
              "\n",
              "[5 rows x 31 columns]"
            ],
            "text/html": [
              "\n",
              "  <div id=\"df-10ff2e2a-b7a2-4432-8676-756b17c68620\">\n",
              "    <div class=\"colab-df-container\">\n",
              "      <div>\n",
              "<style scoped>\n",
              "    .dataframe tbody tr th:only-of-type {\n",
              "        vertical-align: middle;\n",
              "    }\n",
              "\n",
              "    .dataframe tbody tr th {\n",
              "        vertical-align: top;\n",
              "    }\n",
              "\n",
              "    .dataframe thead th {\n",
              "        text-align: right;\n",
              "    }\n",
              "</style>\n",
              "<table border=\"1\" class=\"dataframe\">\n",
              "  <thead>\n",
              "    <tr style=\"text-align: right;\">\n",
              "      <th></th>\n",
              "      <th>Year</th>\n",
              "      <th>Make</th>\n",
              "      <th>Model</th>\n",
              "      <th>Used/New</th>\n",
              "      <th>Price</th>\n",
              "      <th>ConsumerReviews</th>\n",
              "      <th>SellerType</th>\n",
              "      <th>SellerName</th>\n",
              "      <th>SellerRating</th>\n",
              "      <th>SellerReviews</th>\n",
              "      <th>...</th>\n",
              "      <th>InteriorColor</th>\n",
              "      <th>Drivetrain</th>\n",
              "      <th>MinMPG</th>\n",
              "      <th>MaxMPG</th>\n",
              "      <th>FuelType</th>\n",
              "      <th>Transmission</th>\n",
              "      <th>Engine</th>\n",
              "      <th>VIN</th>\n",
              "      <th>Stock#</th>\n",
              "      <th>Mileage</th>\n",
              "    </tr>\n",
              "  </thead>\n",
              "  <tbody>\n",
              "    <tr>\n",
              "      <th>0</th>\n",
              "      <td>2019</td>\n",
              "      <td>Toyota</td>\n",
              "      <td>Sienna SE</td>\n",
              "      <td>Used</td>\n",
              "      <td>39998</td>\n",
              "      <td>45</td>\n",
              "      <td>Dealer</td>\n",
              "      <td>CarMax Murrieta - Now offering Curbside Pickup...</td>\n",
              "      <td>3.3</td>\n",
              "      <td>3</td>\n",
              "      <td>...</td>\n",
              "      <td>Black</td>\n",
              "      <td>2</td>\n",
              "      <td>19</td>\n",
              "      <td>27</td>\n",
              "      <td>Gasoline</td>\n",
              "      <td>8-Speed Automatic</td>\n",
              "      <td>3.5L V6 24V PDI DOHC</td>\n",
              "      <td>5TDXZ3DC2KS015402</td>\n",
              "      <td>22998646</td>\n",
              "      <td>29403</td>\n",
              "    </tr>\n",
              "    <tr>\n",
              "      <th>1</th>\n",
              "      <td>2018</td>\n",
              "      <td>Ford</td>\n",
              "      <td>F-150 Lariat</td>\n",
              "      <td>Used</td>\n",
              "      <td>49985</td>\n",
              "      <td>817</td>\n",
              "      <td>Dealer</td>\n",
              "      <td>Giant Chevrolet</td>\n",
              "      <td>4.8</td>\n",
              "      <td>131</td>\n",
              "      <td>...</td>\n",
              "      <td>Black</td>\n",
              "      <td>0</td>\n",
              "      <td>19</td>\n",
              "      <td>24</td>\n",
              "      <td>Gasoline</td>\n",
              "      <td>10-Speed Automatic</td>\n",
              "      <td>3.5L V6 24V PDI DOHC Twin Turbo</td>\n",
              "      <td>1FTEW1EG2JFD44217</td>\n",
              "      <td>22418A</td>\n",
              "      <td>32929</td>\n",
              "    </tr>\n",
              "    <tr>\n",
              "      <th>2</th>\n",
              "      <td>2017</td>\n",
              "      <td>RAM</td>\n",
              "      <td>1500 Laramie</td>\n",
              "      <td>Used</td>\n",
              "      <td>41860</td>\n",
              "      <td>495</td>\n",
              "      <td>Dealer</td>\n",
              "      <td>Gill Auto Group Madera</td>\n",
              "      <td>4.6</td>\n",
              "      <td>249</td>\n",
              "      <td>...</td>\n",
              "      <td>Black</td>\n",
              "      <td>0</td>\n",
              "      <td>15</td>\n",
              "      <td>21</td>\n",
              "      <td>Gasoline</td>\n",
              "      <td>8-Speed Automatic</td>\n",
              "      <td>5.7L V8 16V MPFI OHV</td>\n",
              "      <td>1C6RR7VT5HS842283</td>\n",
              "      <td>NG277871G</td>\n",
              "      <td>23173</td>\n",
              "    </tr>\n",
              "    <tr>\n",
              "      <th>3</th>\n",
              "      <td>2021</td>\n",
              "      <td>Honda</td>\n",
              "      <td>Accord Sport SE</td>\n",
              "      <td>Used</td>\n",
              "      <td>28500</td>\n",
              "      <td>36</td>\n",
              "      <td>Dealer</td>\n",
              "      <td>AutoSavvy Las Vegas</td>\n",
              "      <td>4.6</td>\n",
              "      <td>284</td>\n",
              "      <td>...</td>\n",
              "      <td>–</td>\n",
              "      <td>2</td>\n",
              "      <td>29</td>\n",
              "      <td>35</td>\n",
              "      <td>Gasoline</td>\n",
              "      <td>Automatic CVT</td>\n",
              "      <td>1.5L I4 16V GDI DOHC Turbo</td>\n",
              "      <td>1HGCV1F49MA038035</td>\n",
              "      <td>54237</td>\n",
              "      <td>10598</td>\n",
              "    </tr>\n",
              "    <tr>\n",
              "      <th>4</th>\n",
              "      <td>2020</td>\n",
              "      <td>Lexus</td>\n",
              "      <td>RX 350</td>\n",
              "      <td>Used</td>\n",
              "      <td>49000</td>\n",
              "      <td>76</td>\n",
              "      <td>Dealer</td>\n",
              "      <td>Lexus of Henderson</td>\n",
              "      <td>4.8</td>\n",
              "      <td>4755</td>\n",
              "      <td>...</td>\n",
              "      <td>Birch</td>\n",
              "      <td>2</td>\n",
              "      <td>20</td>\n",
              "      <td>27</td>\n",
              "      <td>Gasoline</td>\n",
              "      <td>8-Speed Automatic</td>\n",
              "      <td>3.5L V6 24V PDI DOHC</td>\n",
              "      <td>2T2AZMAA8LC156270</td>\n",
              "      <td>HDT4181A</td>\n",
              "      <td>28137</td>\n",
              "    </tr>\n",
              "  </tbody>\n",
              "</table>\n",
              "<p>5 rows × 31 columns</p>\n",
              "</div>\n",
              "      <button class=\"colab-df-convert\" onclick=\"convertToInteractive('df-10ff2e2a-b7a2-4432-8676-756b17c68620')\"\n",
              "              title=\"Convert this dataframe to an interactive table.\"\n",
              "              style=\"display:none;\">\n",
              "        \n",
              "  <svg xmlns=\"http://www.w3.org/2000/svg\" height=\"24px\"viewBox=\"0 0 24 24\"\n",
              "       width=\"24px\">\n",
              "    <path d=\"M0 0h24v24H0V0z\" fill=\"none\"/>\n",
              "    <path d=\"M18.56 5.44l.94 2.06.94-2.06 2.06-.94-2.06-.94-.94-2.06-.94 2.06-2.06.94zm-11 1L8.5 8.5l.94-2.06 2.06-.94-2.06-.94L8.5 2.5l-.94 2.06-2.06.94zm10 10l.94 2.06.94-2.06 2.06-.94-2.06-.94-.94-2.06-.94 2.06-2.06.94z\"/><path d=\"M17.41 7.96l-1.37-1.37c-.4-.4-.92-.59-1.43-.59-.52 0-1.04.2-1.43.59L10.3 9.45l-7.72 7.72c-.78.78-.78 2.05 0 2.83L4 21.41c.39.39.9.59 1.41.59.51 0 1.02-.2 1.41-.59l7.78-7.78 2.81-2.81c.8-.78.8-2.07 0-2.86zM5.41 20L4 18.59l7.72-7.72 1.47 1.35L5.41 20z\"/>\n",
              "  </svg>\n",
              "      </button>\n",
              "      \n",
              "  <style>\n",
              "    .colab-df-container {\n",
              "      display:flex;\n",
              "      flex-wrap:wrap;\n",
              "      gap: 12px;\n",
              "    }\n",
              "\n",
              "    .colab-df-convert {\n",
              "      background-color: #E8F0FE;\n",
              "      border: none;\n",
              "      border-radius: 50%;\n",
              "      cursor: pointer;\n",
              "      display: none;\n",
              "      fill: #1967D2;\n",
              "      height: 32px;\n",
              "      padding: 0 0 0 0;\n",
              "      width: 32px;\n",
              "    }\n",
              "\n",
              "    .colab-df-convert:hover {\n",
              "      background-color: #E2EBFA;\n",
              "      box-shadow: 0px 1px 2px rgba(60, 64, 67, 0.3), 0px 1px 3px 1px rgba(60, 64, 67, 0.15);\n",
              "      fill: #174EA6;\n",
              "    }\n",
              "\n",
              "    [theme=dark] .colab-df-convert {\n",
              "      background-color: #3B4455;\n",
              "      fill: #D2E3FC;\n",
              "    }\n",
              "\n",
              "    [theme=dark] .colab-df-convert:hover {\n",
              "      background-color: #434B5C;\n",
              "      box-shadow: 0px 1px 3px 1px rgba(0, 0, 0, 0.15);\n",
              "      filter: drop-shadow(0px 1px 2px rgba(0, 0, 0, 0.3));\n",
              "      fill: #FFFFFF;\n",
              "    }\n",
              "  </style>\n",
              "\n",
              "      <script>\n",
              "        const buttonEl =\n",
              "          document.querySelector('#df-10ff2e2a-b7a2-4432-8676-756b17c68620 button.colab-df-convert');\n",
              "        buttonEl.style.display =\n",
              "          google.colab.kernel.accessAllowed ? 'block' : 'none';\n",
              "\n",
              "        async function convertToInteractive(key) {\n",
              "          const element = document.querySelector('#df-10ff2e2a-b7a2-4432-8676-756b17c68620');\n",
              "          const dataTable =\n",
              "            await google.colab.kernel.invokeFunction('convertToInteractive',\n",
              "                                                     [key], {});\n",
              "          if (!dataTable) return;\n",
              "\n",
              "          const docLinkHtml = 'Like what you see? Visit the ' +\n",
              "            '<a target=\"_blank\" href=https://colab.research.google.com/notebooks/data_table.ipynb>data table notebook</a>'\n",
              "            + ' to learn more about interactive tables.';\n",
              "          element.innerHTML = '';\n",
              "          dataTable['output_type'] = 'display_data';\n",
              "          await google.colab.output.renderOutput(dataTable, element);\n",
              "          const docLink = document.createElement('div');\n",
              "          docLink.innerHTML = docLinkHtml;\n",
              "          element.appendChild(docLink);\n",
              "        }\n",
              "      </script>\n",
              "    </div>\n",
              "  </div>\n",
              "  "
            ]
          },
          "metadata": {},
          "execution_count": 201
        }
      ]
    }
  ]
}
